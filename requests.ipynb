{
 "metadata": {
  "name": "",
  "signature": "sha256:7fbf890383f622a9cd7a15a00ce798842299010af3e2dfd51ed60987a612bbaa"
 },
 "nbformat": 3,
 "nbformat_minor": 0,
 "worksheets": [
  {
   "cells": [
    {
     "cell_type": "markdown",
     "metadata": {},
     "source": [
      "#Setup"
     ]
    },
    {
     "cell_type": "code",
     "collapsed": false,
     "input": [
      "#Pre-importing things for graphs"
     ],
     "language": "python",
     "metadata": {},
     "outputs": [],
     "prompt_number": 145
    },
    {
     "cell_type": "code",
     "collapsed": false,
     "input": [
      "import matplotlib as mpl\n",
      "from matplotlib import pyplot as plt\n",
      "import pandas as pd\n",
      "\n",
      "\n",
      "\n",
      "pd.options.display.mpl_style = 'default'\n",
      "\n",
      "import brewer2mpl\n",
      "bmap = brewer2mpl.get_map('Dark2','qualitative',8,reverse=False)\n",
      "colors = bmap.mpl_colors\n",
      "\n",
      "\n",
      "font = {'family' : 'Open Sans',\n",
      "        'weight' : 'normal',\n",
      "        'size'   : 24}\n",
      "\n",
      "bigfont = {'family' : 'Open Sans',\n",
      "        'weight' : 'normal',\n",
      "        'size'   : 36,\n",
      "        'color'  : '#333333'}"
     ],
     "language": "python",
     "metadata": {},
     "outputs": [],
     "prompt_number": 176
    },
    {
     "cell_type": "code",
     "collapsed": false,
     "input": [
      "import requests"
     ],
     "language": "python",
     "metadata": {},
     "outputs": [],
     "prompt_number": 1
    },
    {
     "cell_type": "markdown",
     "metadata": {},
     "source": [
      "#Generating an automatic url feeder"
     ]
    },
    {
     "cell_type": "code",
     "collapsed": false,
     "input": [
      "#there are 25 pages\n",
      "\n",
      "url = 'http://crkyo.wordpress.com/page/'\n",
      "pages = range(1,25)\n",
      "\n",
      "urls = []\n",
      "\n",
      "for x in pages:\n",
      "    urls.append(url+str(x))\n"
     ],
     "language": "python",
     "metadata": {},
     "outputs": [],
     "prompt_number": 2
    },
    {
     "cell_type": "code",
     "collapsed": false,
     "input": [
      "urls"
     ],
     "language": "python",
     "metadata": {},
     "outputs": [
      {
       "metadata": {},
       "output_type": "pyout",
       "prompt_number": 3,
       "text": [
        "['http://crkyo.wordpress.com/page/1',\n",
        " 'http://crkyo.wordpress.com/page/2',\n",
        " 'http://crkyo.wordpress.com/page/3',\n",
        " 'http://crkyo.wordpress.com/page/4',\n",
        " 'http://crkyo.wordpress.com/page/5',\n",
        " 'http://crkyo.wordpress.com/page/6',\n",
        " 'http://crkyo.wordpress.com/page/7',\n",
        " 'http://crkyo.wordpress.com/page/8',\n",
        " 'http://crkyo.wordpress.com/page/9',\n",
        " 'http://crkyo.wordpress.com/page/10',\n",
        " 'http://crkyo.wordpress.com/page/11',\n",
        " 'http://crkyo.wordpress.com/page/12',\n",
        " 'http://crkyo.wordpress.com/page/13',\n",
        " 'http://crkyo.wordpress.com/page/14',\n",
        " 'http://crkyo.wordpress.com/page/15',\n",
        " 'http://crkyo.wordpress.com/page/16',\n",
        " 'http://crkyo.wordpress.com/page/17',\n",
        " 'http://crkyo.wordpress.com/page/18',\n",
        " 'http://crkyo.wordpress.com/page/19',\n",
        " 'http://crkyo.wordpress.com/page/20',\n",
        " 'http://crkyo.wordpress.com/page/21',\n",
        " 'http://crkyo.wordpress.com/page/22',\n",
        " 'http://crkyo.wordpress.com/page/23',\n",
        " 'http://crkyo.wordpress.com/page/24']"
       ]
      }
     ],
     "prompt_number": 3
    },
    {
     "cell_type": "markdown",
     "metadata": {},
     "source": [
      "#Using Requests to pull in text from WordPress"
     ]
    },
    {
     "cell_type": "code",
     "collapsed": false,
     "input": [
      "uhtml = []\n",
      "\n",
      "for x in urls:\n",
      "    r = requests.get(x)\n",
      "    uhtml.append(r.text)\n",
      "    print x"
     ],
     "language": "python",
     "metadata": {},
     "outputs": [
      {
       "output_type": "stream",
       "stream": "stdout",
       "text": [
        "http://crkyo.wordpress.com/page/1\n",
        "http://crkyo.wordpress.com/page/2"
       ]
      },
      {
       "output_type": "stream",
       "stream": "stdout",
       "text": [
        "\n",
        "http://crkyo.wordpress.com/page/3"
       ]
      },
      {
       "output_type": "stream",
       "stream": "stdout",
       "text": [
        "\n",
        "http://crkyo.wordpress.com/page/4"
       ]
      },
      {
       "output_type": "stream",
       "stream": "stdout",
       "text": [
        "\n",
        "http://crkyo.wordpress.com/page/5"
       ]
      },
      {
       "output_type": "stream",
       "stream": "stdout",
       "text": [
        "\n",
        "http://crkyo.wordpress.com/page/6"
       ]
      },
      {
       "output_type": "stream",
       "stream": "stdout",
       "text": [
        "\n",
        "http://crkyo.wordpress.com/page/7"
       ]
      },
      {
       "output_type": "stream",
       "stream": "stdout",
       "text": [
        "\n",
        "http://crkyo.wordpress.com/page/8"
       ]
      },
      {
       "output_type": "stream",
       "stream": "stdout",
       "text": [
        "\n",
        "http://crkyo.wordpress.com/page/9"
       ]
      },
      {
       "output_type": "stream",
       "stream": "stdout",
       "text": [
        "\n",
        "http://crkyo.wordpress.com/page/10"
       ]
      },
      {
       "output_type": "stream",
       "stream": "stdout",
       "text": [
        "\n",
        "http://crkyo.wordpress.com/page/11"
       ]
      },
      {
       "output_type": "stream",
       "stream": "stdout",
       "text": [
        "\n",
        "http://crkyo.wordpress.com/page/12"
       ]
      },
      {
       "output_type": "stream",
       "stream": "stdout",
       "text": [
        "\n",
        "http://crkyo.wordpress.com/page/13"
       ]
      },
      {
       "output_type": "stream",
       "stream": "stdout",
       "text": [
        "\n",
        "http://crkyo.wordpress.com/page/14"
       ]
      },
      {
       "output_type": "stream",
       "stream": "stdout",
       "text": [
        "\n",
        "http://crkyo.wordpress.com/page/15"
       ]
      },
      {
       "output_type": "stream",
       "stream": "stdout",
       "text": [
        "\n",
        "http://crkyo.wordpress.com/page/16"
       ]
      },
      {
       "output_type": "stream",
       "stream": "stdout",
       "text": [
        "\n",
        "http://crkyo.wordpress.com/page/17"
       ]
      },
      {
       "output_type": "stream",
       "stream": "stdout",
       "text": [
        "\n",
        "http://crkyo.wordpress.com/page/18"
       ]
      },
      {
       "output_type": "stream",
       "stream": "stdout",
       "text": [
        "\n",
        "http://crkyo.wordpress.com/page/19"
       ]
      },
      {
       "output_type": "stream",
       "stream": "stdout",
       "text": [
        "\n",
        "http://crkyo.wordpress.com/page/20"
       ]
      },
      {
       "output_type": "stream",
       "stream": "stdout",
       "text": [
        "\n",
        "http://crkyo.wordpress.com/page/21"
       ]
      },
      {
       "output_type": "stream",
       "stream": "stdout",
       "text": [
        "\n",
        "http://crkyo.wordpress.com/page/22"
       ]
      },
      {
       "output_type": "stream",
       "stream": "stdout",
       "text": [
        "\n",
        "http://crkyo.wordpress.com/page/23"
       ]
      },
      {
       "output_type": "stream",
       "stream": "stdout",
       "text": [
        "\n",
        "http://crkyo.wordpress.com/page/24"
       ]
      },
      {
       "output_type": "stream",
       "stream": "stdout",
       "text": [
        "\n"
       ]
      }
     ],
     "prompt_number": 4
    },
    {
     "cell_type": "code",
     "collapsed": false,
     "input": [
      "type(uhtml), type(uhtml[2])"
     ],
     "language": "python",
     "metadata": {},
     "outputs": [
      {
       "metadata": {},
       "output_type": "pyout",
       "prompt_number": 5,
       "text": [
        "(list, unicode)"
       ]
      }
     ],
     "prompt_number": 5
    },
    {
     "cell_type": "code",
     "collapsed": false,
     "input": [
      "#The body of the blog now live as unicode-strings in a list"
     ],
     "language": "python",
     "metadata": {},
     "outputs": [],
     "prompt_number": 6
    },
    {
     "cell_type": "markdown",
     "metadata": {},
     "source": [
      "#Converting Unicode to Ascii"
     ]
    },
    {
     "cell_type": "code",
     "collapsed": false,
     "input": [
      "html = []\n",
      "\n",
      "for x in uhtml:\n",
      "    encoded = x.encode(\"utf-8\")\n",
      "    html.append(encoded)"
     ],
     "language": "python",
     "metadata": {},
     "outputs": [],
     "prompt_number": 7
    },
    {
     "cell_type": "code",
     "collapsed": false,
     "input": [
      "type(html), type(html[3])"
     ],
     "language": "python",
     "metadata": {},
     "outputs": [
      {
       "metadata": {},
       "output_type": "pyout",
       "prompt_number": 8,
       "text": [
        "(list, str)"
       ]
      }
     ],
     "prompt_number": 8
    },
    {
     "cell_type": "code",
     "collapsed": false,
     "input": [
      "#The body of the blog has been converted from unicode"
     ],
     "language": "python",
     "metadata": {},
     "outputs": [],
     "prompt_number": 9
    },
    {
     "cell_type": "markdown",
     "metadata": {},
     "source": [
      "###How many characters in the entire source code?"
     ]
    },
    {
     "cell_type": "code",
     "collapsed": false,
     "input": [
      "print len(html), ':'\n",
      "\n",
      "for x in html:\n",
      "    print len(x),\"characters in this\", type(x)"
     ],
     "language": "python",
     "metadata": {},
     "outputs": [
      {
       "output_type": "stream",
       "stream": "stdout",
       "text": [
        "24 :\n",
        "50850 characters in this <type 'str'>\n",
        "45750 characters in this <type 'str'>\n",
        "41290 characters in this <type 'str'>\n",
        "41113 characters in this <type 'str'>\n",
        "37218 characters in this <type 'str'>\n",
        "38255 characters in this <type 'str'>\n",
        "36895 characters in this <type 'str'>\n",
        "43762 characters in this <type 'str'>\n",
        "46604 characters in this <type 'str'>\n",
        "48825 characters in this <type 'str'>\n",
        "50397 characters in this <type 'str'>\n",
        "35817 characters in this <type 'str'>\n",
        "39983 characters in this <type 'str'>\n",
        "43604 characters in this <type 'str'>\n",
        "34684 characters in this <type 'str'>\n",
        "34368 characters in this <type 'str'>\n",
        "42402 characters in this <type 'str'>\n",
        "40970 characters in this <type 'str'>\n",
        "42346 characters in this <type 'str'>\n",
        "37171 characters in this <type 'str'>\n",
        "42759 characters in this <type 'str'>\n",
        "46919 characters in this <type 'str'>\n",
        "58967 characters in this <type 'str'>\n",
        "63155 characters in this <type 'str'>\n"
       ]
      }
     ],
     "prompt_number": 10
    },
    {
     "cell_type": "code",
     "collapsed": false,
     "input": [
      "#Sidetracked - creating a simple addition calculator to count characters in a list of strings"
     ],
     "language": "python",
     "metadata": {},
     "outputs": [],
     "prompt_number": 11
    },
    {
     "cell_type": "code",
     "collapsed": false,
     "input": [
      "def addition(total):\n",
      "    charcounter = 0\n",
      "    for x in total:\n",
      "        charcounter += len(x)\n",
      "    print charcounter        "
     ],
     "language": "python",
     "metadata": {},
     "outputs": [],
     "prompt_number": 12
    },
    {
     "cell_type": "code",
     "collapsed": false,
     "input": [
      "addition(html)"
     ],
     "language": "python",
     "metadata": {},
     "outputs": [
      {
       "output_type": "stream",
       "stream": "stdout",
       "text": [
        "1044104\n"
       ]
      }
     ],
     "prompt_number": 13
    },
    {
     "cell_type": "markdown",
     "metadata": {},
     "source": [
      "---"
     ]
    },
    {
     "cell_type": "markdown",
     "metadata": {},
     "source": [
      "Still left to be filtered out:\n",
      "    \n",
      "    - CDATA bits\n",
      "    - stylesheet code\n",
      "    \n",
      "Can this be done by using RegEx on top of BeautifulSoup?  These bits are code that exists within tags (script and style tags), which bs looks for to filter out body text.  This should be filtered out before BeautifulSoup is used.  Alternatively, the pages can be split at the end of each style tag before being filtered with bs."
     ]
    },
    {
     "cell_type": "markdown",
     "metadata": {},
     "source": [
      "#Trimming off the head and footer from each page with split()"
     ]
    },
    {
     "cell_type": "code",
     "collapsed": false,
     "input": [
      "print html[0][:1000]"
     ],
     "language": "python",
     "metadata": {},
     "outputs": [
      {
       "output_type": "stream",
       "stream": "stdout",
       "text": [
        "<!DOCTYPE html>\n",
        "<html lang=\"en\">\n",
        "<head>\n",
        "<meta charset=\"UTF-8\">\n",
        "<meta name=\"viewport\" content=\"width=device-width, initial-scale=1\">\n",
        "<title>crkyo | Smile! You\u2019re at the best WordPress.com site ever</title>\n",
        "<link rel=\"profile\" href=\"http://gmpg.org/xfn/11\">\n",
        "<link rel=\"pingback\" href=\"https://crkyo.wordpress.com/xmlrpc.php\">\n",
        "\n",
        "<link rel=\"alternate\" type=\"application/rss+xml\" title=\"crkyo &raquo; Feed\" href=\"https://crkyo.wordpress.com/feed/\" />\n",
        "<link rel=\"alternate\" type=\"application/rss+xml\" title=\"crkyo &raquo; Comments Feed\" href=\"https://crkyo.wordpress.com/comments/feed/\" />\n",
        "<script type=\"text/javascript\">\n",
        "/* <![CDATA[ */\n",
        "function addLoadEvent(func){var oldonload=window.onload;if(typeof window.onload!='function'){window.onload=func;}else{window.onload=function(){oldonload();func();}}}\n",
        "/* ]]> */\n",
        "</script>\n",
        "<link rel='stylesheet' id='all-css-0' href='https://s0.wp.com/_static/??-eJx9kNFuwjAMRX9omQV0vE18S0lN6uLEUe2q6t9jkMaGyvp2HZ+j2Ia5hijFsBjkKVSeEhUFzcS41FEGjPZafUbVD3ivMV1RYUCrbbyGR7XC\n"
       ]
      }
     ],
     "prompt_number": 14
    },
    {
     "cell_type": "raw",
     "metadata": {},
     "source": [
      "Each page needs to be split with the following parameters:\n",
      "\n",
      "topSplit: /head\n",
      "bottomSplit: footer"
     ]
    },
    {
     "cell_type": "code",
     "collapsed": false,
     "input": [
      "content = []\n",
      "\n",
      "for page in html:\n",
      "    topSplit = '</head>'\n",
      "    bottomSplit = '<footer'\n",
      "    leanhtml = page.split(topSplit)[1].split(bottomSplit)[0]\n",
      "    content.append(leanhtml)\n",
      "    "
     ],
     "language": "python",
     "metadata": {},
     "outputs": [],
     "prompt_number": 15
    },
    {
     "cell_type": "code",
     "collapsed": false,
     "input": [
      "print len(content[0])\n",
      "print content[0][:1000]"
     ],
     "language": "python",
     "metadata": {},
     "outputs": [
      {
       "output_type": "stream",
       "stream": "stdout",
       "text": [
        "27536\n",
        "\n",
        "\n",
        "<body class=\"home blog mp6 customizer-styles-applied highlander-enabled highlander-light infinite-scroll neverending\">\n",
        "<div id=\"page\" class=\"hfeed site\">\n",
        "\t<a class=\"skip-link screen-reader-text\" href=\"#content\">Skip to content</a>\n",
        "\n",
        "\t<header id=\"masthead\" class=\"site-header\" role=\"banner\">\n",
        "\n",
        "\t\t<div class=\"site-branding\">\n",
        "\t\t\t\t\t\t\t\t\t\t\t\t\t<h1 class=\"site-title\"><a href=\"https://crkyo.wordpress.com/\" rel=\"home\">crkyo</a></h1>\n",
        "\t\t\t<h2 class=\"site-description\">Smile! You\u2019re at the best WordPress.com site ever</h2>\n",
        "\t\t</div>\n",
        "\n",
        "\t\t\n",
        "\t\t\t\t<div class=\"slide-menu\">\n",
        "\t\t\t\n",
        "\t\t\t\n",
        "\t\t</div>\n",
        "\t</header><!-- #masthead -->\n",
        "\n",
        "\t<div id=\"content\" class=\"site-content\">\n",
        "\n",
        "\t<div id=\"primary\" class=\"content-area\">\n",
        "\t\t<main id=\"main\" class=\"site-main\" role=\"main\">\n",
        "\n",
        "\t\t\n",
        "\t\t\t\t\t\t\n",
        "\t\t\t\t\n",
        "<article id=\"post-215\" class=\"post-215 post type-post status-publish format-standard hentry category-uncategorized\">\n",
        "\t<header class=\"entry-header\">\n",
        "\t\t\t\t\t<h1 class=\"entry-title\"><a href=\"https://crkyo.wordpress.com/2015/01/07/test/\" rel=\"bookmark\">Tes\n"
       ]
      }
     ],
     "prompt_number": 16
    },
    {
     "cell_type": "markdown",
     "metadata": {},
     "source": [
      "#Consolidating all pages into one variable"
     ]
    },
    {
     "cell_type": "code",
     "collapsed": false,
     "input": [
      "body = \"\"\n",
      "\n",
      "for page in content:\n",
      "    body += page\n",
      "    \n",
      "len(body)"
     ],
     "language": "python",
     "metadata": {},
     "outputs": [
      {
       "metadata": {},
       "output_type": "pyout",
       "prompt_number": 17,
       "text": [
        "484260"
       ]
      }
     ],
     "prompt_number": 17
    },
    {
     "cell_type": "markdown",
     "metadata": {},
     "source": [
      "#Parsing HTML with BeautifulSoup"
     ]
    },
    {
     "cell_type": "code",
     "collapsed": false,
     "input": [
      "type(body)"
     ],
     "language": "python",
     "metadata": {},
     "outputs": [
      {
       "metadata": {},
       "output_type": "pyout",
       "prompt_number": 18,
       "text": [
        "str"
       ]
      }
     ],
     "prompt_number": 18
    },
    {
     "cell_type": "code",
     "collapsed": false,
     "input": [
      "from bs4 import BeautifulSoup as bs"
     ],
     "language": "python",
     "metadata": {},
     "outputs": [],
     "prompt_number": 19
    },
    {
     "cell_type": "code",
     "collapsed": true,
     "input": [
      "soup = bs(body)\n",
      "print len(soup.get_text()), \"characters in this\", type(soup.get_text())"
     ],
     "language": "python",
     "metadata": {},
     "outputs": [
      {
       "output_type": "stream",
       "stream": "stdout",
       "text": [
        "210325 characters in this <type 'unicode'>\n"
       ]
      }
     ],
     "prompt_number": 20
    },
    {
     "cell_type": "code",
     "collapsed": false,
     "input": [
      "print bs(body).prettify()[:1000]"
     ],
     "language": "python",
     "metadata": {},
     "outputs": [
      {
       "output_type": "stream",
       "stream": "stdout",
       "text": [
        "<html>\n",
        " <body class=\"home blog mp6 customizer-styles-applied highlander-enabled highlander-light infinite-scroll neverending\">\n",
        "  <div class=\"hfeed site\" id=\"page\">\n",
        "   <a class=\"skip-link screen-reader-text\" href=\"#content\">\n",
        "    Skip to content\n",
        "   </a>\n",
        "   <header class=\"site-header\" id=\"masthead\" role=\"banner\">\n",
        "    <div class=\"site-branding\">\n",
        "     <h1 class=\"site-title\">\n",
        "      <a href=\"https://crkyo.wordpress.com/\" rel=\"home\">\n",
        "       crkyo\n",
        "      </a>\n",
        "     </h1>\n",
        "     <h2 class=\"site-description\">\n",
        "      Smile! You\u2019re at the best WordPress.com site ever\n",
        "     </h2>\n",
        "    </div>\n",
        "    <div class=\"slide-menu\">\n",
        "    </div>\n",
        "   </header>\n",
        "   <!-- #masthead -->\n",
        "   <div class=\"site-content\" id=\"content\">\n",
        "    <div class=\"content-area\" id=\"primary\">\n",
        "     <main class=\"site-main\" id=\"main\" role=\"main\">\n",
        "      <article class=\"post-215 post type-post status-publish format-standard hentry category-uncategorized\" id=\"post-215\">\n",
        "       <header class=\"entry-header\">\n",
        "        <h1 class=\"entry-title\">\n",
        "         <a hre\n"
       ]
      }
     ],
     "prompt_number": 21
    },
    {
     "cell_type": "code",
     "collapsed": false,
     "input": [
      "text = soup.get_text()\n",
      "print text[:1000]"
     ],
     "language": "python",
     "metadata": {},
     "outputs": [
      {
       "output_type": "stream",
       "stream": "stdout",
       "text": [
        "\n",
        "\n",
        "Skip to content\n",
        "\n",
        "\n",
        "crkyo\n",
        "Smile! You\u2019re at the best WordPress.com site ever\n",
        "\n",
        "\n",
        "\n",
        "\n",
        "\n",
        "\n",
        "\n",
        "\n",
        "\n",
        "Test\n",
        "\n",
        "January 7, 2015 crkyoLeave a comment \n",
        "\n",
        "\n",
        "test\n",
        "\n",
        "\n",
        "Test \n",
        "\n",
        "\n",
        "\n",
        "The Falls of\u00a0Truth\n",
        "\n",
        "January 16, 2013 crkyoawareness, evil, fear, good, philosophy, reasonLeave a comment \n",
        "\n",
        "\n",
        "Random thought that occurred to me as I was lying in bed:\n",
        "If I\u2019ve learned anything from watching anime, it\u2019s that you need to understand your own dark side, accept it and embrace it. \u00a0If you don\u2019t, you lose the capacity for reason, and also turn into a rampaging living form of energy in the shape of a giant fox. \u00a0\n",
        "All fanboyism aside, this very sensible concept led me to wonder \u2013 what is it that permits us to reason and accept the parts of humanity that we would prefer to turn our backs on or even refuse to acknowledge? \u00a0Must we first be capable of reason in order to accept the evils of humanity? \u00a0Do those who never really face their demons simply fail to reason with themselves? \u00a0Are they just cursed with a smaller capacity to reason, \n"
       ]
      }
     ],
     "prompt_number": 22
    },
    {
     "cell_type": "code",
     "collapsed": false,
     "input": [
      "#Other useful functions: soup.prettify(), soup.title(), soup.find_all('p')"
     ],
     "language": "python",
     "metadata": {},
     "outputs": [],
     "prompt_number": 23
    },
    {
     "cell_type": "markdown",
     "metadata": {},
     "source": [
      "#Natural Language Processing with NLTK"
     ]
    },
    {
     "cell_type": "code",
     "collapsed": false,
     "input": [
      "import nltk"
     ],
     "language": "python",
     "metadata": {},
     "outputs": [],
     "prompt_number": 24
    },
    {
     "cell_type": "markdown",
     "metadata": {},
     "source": [
      "###Tokenizing the body of text"
     ]
    },
    {
     "cell_type": "code",
     "collapsed": false,
     "input": [
      "tokens = nltk.word_tokenize(text)\n",
      "print len(tokens), type(tokens)"
     ],
     "language": "python",
     "metadata": {},
     "outputs": [
      {
       "output_type": "stream",
       "stream": "stdout",
       "text": [
        "40515 <type 'list'>\n"
       ]
      }
     ],
     "prompt_number": 25
    },
    {
     "cell_type": "code",
     "collapsed": false,
     "input": [
      "tokens[:10]"
     ],
     "language": "python",
     "metadata": {},
     "outputs": [
      {
       "metadata": {},
       "output_type": "pyout",
       "prompt_number": 26,
       "text": [
        "[u'Skip',\n",
        " u'to',\n",
        " u'content',\n",
        " u'crkyo',\n",
        " u'Smile',\n",
        " u'!',\n",
        " u'You\\u2019re',\n",
        " u'at',\n",
        " u'the',\n",
        " u'best']"
       ]
      }
     ],
     "prompt_number": 26
    },
    {
     "cell_type": "markdown",
     "metadata": {},
     "source": [
      "###Assigning part-of-speech tags to each word"
     ]
    },
    {
     "cell_type": "code",
     "collapsed": false,
     "input": [
      "from nltk.tag import pos_tag"
     ],
     "language": "python",
     "metadata": {},
     "outputs": [],
     "prompt_number": 27
    },
    {
     "cell_type": "code",
     "collapsed": false,
     "input": [
      "pos = pos_tag(tokens)"
     ],
     "language": "python",
     "metadata": {},
     "outputs": [],
     "prompt_number": 28
    },
    {
     "cell_type": "code",
     "collapsed": false,
     "input": [
      "type(pos)"
     ],
     "language": "python",
     "metadata": {},
     "outputs": [
      {
       "metadata": {},
       "output_type": "pyout",
       "prompt_number": 29,
       "text": [
        "list"
       ]
      }
     ],
     "prompt_number": 29
    },
    {
     "cell_type": "code",
     "collapsed": false,
     "input": [
      "len(pos)"
     ],
     "language": "python",
     "metadata": {},
     "outputs": [
      {
       "metadata": {},
       "output_type": "pyout",
       "prompt_number": 30,
       "text": [
        "40515"
       ]
      }
     ],
     "prompt_number": 30
    },
    {
     "cell_type": "code",
     "collapsed": false,
     "input": [
      "#-----\n",
      "#Will return to pos later\n",
      "#-----"
     ],
     "language": "python",
     "metadata": {},
     "outputs": [],
     "prompt_number": 31
    },
    {
     "cell_type": "code",
     "collapsed": true,
     "input": [
      "long_words = []\n",
      "\n",
      "for item in tokens:\n",
      "    if len(item) > 10:\n",
      "        long_words.append(item)\n",
      "        \n",
      "sorted(long_words)[15:50]"
     ],
     "language": "python",
     "metadata": {},
     "outputs": [
      {
       "metadata": {},
       "output_type": "pyout",
       "prompt_number": 32,
       "text": [
        "[u'140-limited',\n",
        " u'172.starting',\n",
        " u'54th*without',\n",
        " u'8,640,000,000,000',\n",
        " u'8,640,000,000,000.',\n",
        " u'Automatically',\n",
        " u'Bridgewater\\u2026',\n",
        " u'CHEESEBURGER',\n",
        " u'CHEESEBURGERS',\n",
        " u'Checkpoint.',\n",
        " u'Checkpoint.Honestly',\n",
        " u'Christopher',\n",
        " u'Communication',\n",
        " u'Confederate',\n",
        " u'DumbFounDead',\n",
        " u'Enlightenment',\n",
        " u'FeatureCuts',\n",
        " u'Inconsiderately',\n",
        " u'Incorporate',\n",
        " u'LyricFinderLite',\n",
        " u'Nevertheless',\n",
        " u'Nostradamus',\n",
        " u'Opportunity.',\n",
        " u'Organization',\n",
        " u'Photoshopping.',\n",
        " u'RESPECTABLE',\n",
        " u'Rochefoucauld',\n",
        " u'Shichyeah.To',\n",
        " u'Shyamalan\\u2019s',\n",
        " u'SoundCloud.',\n",
        " u'Theoretically.',\n",
        " u'Theory.After',\n",
        " u'Tumbokon05/28/47',\n",
        " u'Unbreakable',\n",
        " u'Understanding']"
       ]
      }
     ],
     "prompt_number": 32
    },
    {
     "cell_type": "code",
     "collapsed": false,
     "input": [
      "#How long is the average word in the blog?"
     ],
     "language": "python",
     "metadata": {},
     "outputs": [],
     "prompt_number": 33
    },
    {
     "cell_type": "code",
     "collapsed": false,
     "input": [
      "average_word = 0\n",
      "\n",
      "for word in tokens:\n",
      "    average_word += len(word)\n",
      "\n",
      "print \"The average word is\", average_word/len(tokens), \"letters long!  Word!\""
     ],
     "language": "python",
     "metadata": {},
     "outputs": [
      {
       "output_type": "stream",
       "stream": "stdout",
       "text": [
        "The average word is 4 letters long!  Word!\n"
       ]
      }
     ],
     "prompt_number": 34
    },
    {
     "cell_type": "code",
     "collapsed": false,
     "input": [
      "len(set(tokens))"
     ],
     "language": "python",
     "metadata": {},
     "outputs": [
      {
       "metadata": {},
       "output_type": "pyout",
       "prompt_number": 35,
       "text": [
        "6771"
       ]
      }
     ],
     "prompt_number": 35
    },
    {
     "cell_type": "code",
     "collapsed": false,
     "input": [
      "len(tokens)/len(set(tokens)) #returns average word frequency (out of 6771 words)"
     ],
     "language": "python",
     "metadata": {},
     "outputs": [
      {
       "metadata": {},
       "output_type": "pyout",
       "prompt_number": 36,
       "text": [
        "5"
       ]
      }
     ],
     "prompt_number": 36
    },
    {
     "cell_type": "code",
     "collapsed": false,
     "input": [
      "len(set(text))"
     ],
     "language": "python",
     "metadata": {},
     "outputs": [
      {
       "metadata": {},
       "output_type": "pyout",
       "prompt_number": 37,
       "text": [
        "102"
       ]
      }
     ],
     "prompt_number": 37
    },
    {
     "cell_type": "code",
     "collapsed": false,
     "input": [
      "len(text)/len(set(text)) #returns average character frequency (out of 102 characters)"
     ],
     "language": "python",
     "metadata": {},
     "outputs": [
      {
       "metadata": {},
       "output_type": "pyout",
       "prompt_number": 38,
       "text": [
        "2062"
       ]
      }
     ],
     "prompt_number": 38
    },
    {
     "cell_type": "markdown",
     "metadata": {},
     "source": [
      "###Frequency Analysis"
     ]
    },
    {
     "cell_type": "code",
     "collapsed": false,
     "input": [
      "from nltk import FreqDist"
     ],
     "language": "python",
     "metadata": {},
     "outputs": [],
     "prompt_number": 39
    },
    {
     "cell_type": "code",
     "collapsed": false,
     "input": [
      "FreqDist(tokens)"
     ],
     "language": "python",
     "metadata": {},
     "outputs": [
      {
       "metadata": {},
       "output_type": "pyout",
       "prompt_number": 40,
       "text": [
        "<FreqDist with 6771 samples and 40515 outcomes>"
       ]
      }
     ],
     "prompt_number": 40
    },
    {
     "cell_type": "code",
     "collapsed": false,
     "input": [
      "print len(FreqDist(tokens).keys()), \"unique words and\",len(tokens), \"words total in the entirety of the text\""
     ],
     "language": "python",
     "metadata": {},
     "outputs": [
      {
       "output_type": "stream",
       "stream": "stdout",
       "text": [
        "6771 unique words and 40515 words total in the entirety of the text\n"
       ]
      }
     ],
     "prompt_number": 41
    },
    {
     "cell_type": "code",
     "collapsed": false,
     "input": [
      "FreqDist(tokens).plot(50, cumulative=True)"
     ],
     "language": "python",
     "metadata": {},
     "outputs": [
      {
       "metadata": {},
       "output_type": "display_data",
       "png": "[encoded data removed]",
       "text": [
        "<matplotlib.figure.Figure at 0xb5a354a8>"
       ]
      }
     ],
     "prompt_number": 231
    },
    {
     "cell_type": "code",
     "collapsed": false,
     "input": [
      "curious = [\n",
      "'man',\n",
      "'woman',\n",
      "'boy',\n",
      "'girl',\n",
      "'want',\n",
      "'need',\n",
      "'think',\n",
      "'believe',\n",
      "'study',\n",
      "'find',\n",
      "'know',\n",
      "'shit',\n",
      "'fuck',\n",
      "'never',\n",
      "'always',\n",
      "'the',\n",
      "'and',\n",
      "'or',\n",
      "'when',\n",
      "'who',\n",
      "'what',\n",
      "'where',\n",
      "'why'\n",
      "]\n",
      "\n",
      "for word in curious:\n",
      "    print tokens.count(word), word"
     ],
     "language": "python",
     "metadata": {},
     "outputs": [
      {
       "output_type": "stream",
       "stream": "stdout",
       "text": [
        "3 man\n",
        "0 woman\n",
        "2 boy\n",
        "6 girl\n",
        "73"
       ]
      },
      {
       "output_type": "stream",
       "stream": "stdout",
       "text": [
        " want\n",
        "56 need\n",
        "90 think\n",
        "13 believe\n",
        "6"
       ]
      },
      {
       "output_type": "stream",
       "stream": "stdout",
       "text": [
        " study\n",
        "60 find\n",
        "79 know\n",
        "16 shit\n",
        "16"
       ]
      },
      {
       "output_type": "stream",
       "stream": "stdout",
       "text": [
        " fuck\n",
        "64 never\n",
        "46 always\n",
        "1312 the\n",
        "775"
       ]
      },
      {
       "output_type": "stream",
       "stream": "stdout",
       "text": [
        " and\n",
        "162 or\n",
        "147 when\n",
        "85 who\n",
        "266"
       ]
      },
      {
       "output_type": "stream",
       "stream": "stdout",
       "text": [
        " what\n",
        "49 where\n",
        "83 why\n"
       ]
      }
     ],
     "prompt_number": 43
    },
    {
     "cell_type": "code",
     "collapsed": false,
     "input": [
      "from __future__ import division"
     ],
     "language": "python",
     "metadata": {},
     "outputs": [],
     "prompt_number": 44
    },
    {
     "cell_type": "code",
     "collapsed": false,
     "input": [
      "def ofalltext(x, text):\n",
      "    print \"'\",x,\"'\", \"accounts for\",100*text.count(x)/len(text),\"% of the text\""
     ],
     "language": "python",
     "metadata": {},
     "outputs": [],
     "prompt_number": 45
    },
    {
     "cell_type": "code",
     "collapsed": false,
     "input": [
      "ofalltext('the', tokens),\n",
      "ofalltext('and', tokens),\n",
      "ofalltext('or', tokens),\n",
      "ofalltext('if', tokens)"
     ],
     "language": "python",
     "metadata": {},
     "outputs": [
      {
       "output_type": "stream",
       "stream": "stdout",
       "text": [
        "' the ' accounts for 3.23830679995 % of the text\n",
        "' and ' accounts for 1.91287177589 % of the text\n",
        "' or ' accounts for 0.399851906701 % of the text\n",
        "' if ' accounts for "
       ]
      },
      {
       "output_type": "stream",
       "stream": "stdout",
       "text": [
        "0.249290386277 % of the text\n"
       ]
      }
     ],
     "prompt_number": 46
    },
    {
     "cell_type": "markdown",
     "metadata": {},
     "source": [
      "---"
     ]
    },
    {
     "cell_type": "markdown",
     "metadata": {},
     "source": [
      "#What if... we created a dataframe out of this information?"
     ]
    },
    {
     "cell_type": "markdown",
     "metadata": {},
     "source": [
      "---"
     ]
    },
    {
     "cell_type": "code",
     "collapsed": false,
     "input": [
      "import pandas as pd"
     ],
     "language": "python",
     "metadata": {},
     "outputs": [],
     "prompt_number": 48
    },
    {
     "cell_type": "markdown",
     "metadata": {},
     "source": [
      "###First, filter out any non-alphanumeric words in tokens"
     ]
    },
    {
     "cell_type": "code",
     "collapsed": false,
     "input": [
      "lower = ['a','b','c','d','e','f','g','h','i','j','k','l','m',\n",
      "         'n','o','p','q','r','s','t','u','v','w','x','y','z']\n",
      "upper = []\n",
      "for s in lower:\n",
      "    upper.append(s.upper())\n",
      "numer = ['0','1','2','3','4','5','6','7','8','9']"
     ],
     "language": "python",
     "metadata": {},
     "outputs": [],
     "prompt_number": 50
    },
    {
     "cell_type": "code",
     "collapsed": false,
     "input": [
      "print upper, lower"
     ],
     "language": "python",
     "metadata": {},
     "outputs": [
      {
       "output_type": "stream",
       "stream": "stdout",
       "text": [
        "['A', 'B', 'C', 'D', 'E', 'F', 'G', 'H', 'I', 'J', 'K', 'L', 'M', 'N', 'O', 'P', 'Q', 'R', 'S', 'T', 'U', 'V', 'W', 'X', 'Y', 'Z'] ['a', 'b', 'c', 'd', 'e', 'f', 'g', 'h', 'i', 'j', 'k', 'l', 'm', 'n', 'o', 'p', 'q', 'r', 's', 't', 'u', 'v', 'w', 'x', 'y', 'z']\n"
       ]
      }
     ],
     "prompt_number": 51
    },
    {
     "cell_type": "code",
     "collapsed": false,
     "input": [
      "both = upper+lower"
     ],
     "language": "python",
     "metadata": {},
     "outputs": [],
     "prompt_number": 52
    },
    {
     "cell_type": "code",
     "collapsed": false,
     "input": [
      "print both"
     ],
     "language": "python",
     "metadata": {},
     "outputs": [
      {
       "output_type": "stream",
       "stream": "stdout",
       "text": [
        "['A', 'B', 'C', 'D', 'E', 'F', 'G', 'H', 'I', 'J', 'K', 'L', 'M', 'N', 'O', 'P', 'Q', 'R', 'S', 'T', 'U', 'V', 'W', 'X', 'Y', 'Z', 'a', 'b', 'c', 'd', 'e', 'f', 'g', 'h', 'i', 'j', 'k', 'l', 'm', 'n', 'o', 'p', 'q', 'r', 's', 't', 'u', 'v', 'w', 'x', 'y', 'z']\n"
       ]
      }
     ],
     "prompt_number": 53
    },
    {
     "cell_type": "markdown",
     "metadata": {},
     "source": [
      "###Encode tokens to ASCII to avoid encoding errors:"
     ]
    },
    {
     "cell_type": "code",
     "collapsed": false,
     "input": [
      "atokens = []\n",
      "\n",
      "for word in tokens:\n",
      "    encoded = word.encode(\"utf-8\")\n",
      "    atokens.append(encoded)"
     ],
     "language": "python",
     "metadata": {},
     "outputs": [],
     "prompt_number": 55
    },
    {
     "cell_type": "code",
     "collapsed": false,
     "input": [
      "alpha = []\n",
      "here = ['4']\n",
      "for word in atokens:\n",
      "    if word[0] in both:\n",
      "        alpha.append(word)"
     ],
     "language": "python",
     "metadata": {},
     "outputs": [],
     "prompt_number": 56
    },
    {
     "cell_type": "code",
     "collapsed": false,
     "input": [
      "len(alpha), len(tokens)"
     ],
     "language": "python",
     "metadata": {},
     "outputs": [
      {
       "metadata": {},
       "output_type": "pyout",
       "prompt_number": 65,
       "text": [
        "(36754, 40515)"
       ]
      }
     ],
     "prompt_number": 65
    },
    {
     "cell_type": "code",
     "collapsed": false,
     "input": [
      "print \"Doing this removed\", len(tokens)-len(alpha),\"non-alphanumeric words from the tokens list.\"\n",
      "print \"That is\", (len(tokens)-len(alpha))/len(tokens), \"% of the original list\""
     ],
     "language": "python",
     "metadata": {},
     "outputs": [
      {
       "output_type": "stream",
       "stream": "stdout",
       "text": [
        "Doing this removed 3761 non-alphanumeric words from the tokens list.\n",
        "That is 0.0928298161175 % of the original list\n"
       ]
      }
     ],
     "prompt_number": 67
    },
    {
     "cell_type": "raw",
     "metadata": {},
     "source": [
      "Currently, 'alpha' exists as a list of all words in the blog.  \n",
      "Other data that can be included:  \n",
      "    - Count  \n",
      "    - Character length\n",
      "    - Frequency  \n",
      "    - Part of speech\n",
      "    - Sentiment"
     ]
    },
    {
     "cell_type": "code",
     "collapsed": false,
     "input": [
      "df = pd.DataFrame(sorted(alpha))\n",
      "df.columns = [\"word\"]"
     ],
     "language": "python",
     "metadata": {},
     "outputs": [],
     "prompt_number": 88
    },
    {
     "cell_type": "code",
     "collapsed": false,
     "input": [
      "df.describe()"
     ],
     "language": "python",
     "metadata": {},
     "outputs": [
      {
       "html": [
        "<div style=\"max-height:1000px;max-width:1500px;overflow:auto;\">\n",
        "<table border=\"1\" class=\"dataframe\">\n",
        "  <thead>\n",
        "    <tr style=\"text-align: right;\">\n",
        "      <th></th>\n",
        "      <th>word</th>\n",
        "    </tr>\n",
        "  </thead>\n",
        "  <tbody>\n",
        "    <tr>\n",
        "      <th>count</th>\n",
        "      <td> 36754</td>\n",
        "    </tr>\n",
        "    <tr>\n",
        "      <th>unique</th>\n",
        "      <td>  6419</td>\n",
        "    </tr>\n",
        "    <tr>\n",
        "      <th>top</th>\n",
        "      <td>   the</td>\n",
        "    </tr>\n",
        "    <tr>\n",
        "      <th>freq</th>\n",
        "      <td>  1312</td>\n",
        "    </tr>\n",
        "  </tbody>\n",
        "</table>\n",
        "</div>"
       ],
       "metadata": {},
       "output_type": "pyout",
       "prompt_number": 89,
       "text": [
        "         word\n",
        "count   36754\n",
        "unique   6419\n",
        "top       the\n",
        "freq     1312"
       ]
      }
     ],
     "prompt_number": 89
    },
    {
     "cell_type": "markdown",
     "metadata": {},
     "source": [
      "###Add word length to the dataframe"
     ]
    },
    {
     "cell_type": "code",
     "collapsed": false,
     "input": [
      "df['length'] = [len(w) for w in df['word']]"
     ],
     "language": "python",
     "metadata": {},
     "outputs": [],
     "prompt_number": 92
    },
    {
     "cell_type": "code",
     "collapsed": false,
     "input": [
      "print df['length'].mean(), \"(average length)\"\n",
      "print df['length'].max(), \"(max length)\""
     ],
     "language": "python",
     "metadata": {},
     "outputs": [
      {
       "output_type": "stream",
       "stream": "stdout",
       "text": [
        "4.47018011645 (average length)\n",
        "47 (max length)\n"
       ]
      }
     ],
     "prompt_number": 105
    },
    {
     "cell_type": "code",
     "collapsed": false,
     "input": [
      "#max length = 47?  wtf?"
     ],
     "language": "python",
     "metadata": {},
     "outputs": [],
     "prompt_number": 106
    },
    {
     "cell_type": "code",
     "collapsed": false,
     "input": [
      "for x in df['word']:\n",
      "    if len(x) == 47:\n",
      "        print x"
     ],
     "language": "python",
     "metadata": {},
     "outputs": [
      {
       "output_type": "stream",
       "stream": "stdout",
       "text": [
        "pizza\u2026\u2026\u2026\u2026\u2026\u2026\u2026\u2026\u2026\u2026\u2026\u2026\u2026..i\n"
       ]
      }
     ],
     "prompt_number": 98
    },
    {
     "cell_type": "code",
     "collapsed": false,
     "input": [
      "#oh.  lol"
     ],
     "language": "python",
     "metadata": {},
     "outputs": [],
     "prompt_number": 108
    },
    {
     "cell_type": "code",
     "collapsed": false,
     "input": [
      "#unusually long words...\n",
      "\n",
      "for x in df['word']:\n",
      "    if len(x) > 17:\n",
      "        print x"
     ],
     "language": "python",
     "metadata": {},
     "outputs": [
      {
       "output_type": "stream",
       "stream": "stdout",
       "text": [
        "Checkpoint.Honestly\n",
        "absent-mindedness.\n",
        "america.parisioners\n",
        "btnG=Google+Search\n",
        "camogreen.Shitt\u2026\n",
        "careerbuilder.com/monster.com/etc.\n",
        "consequence.\u201cYou\n",
        "efficient.Everywhere\n",
        "enlightenment-ready.\n",
        "not-as-akward-but-way-more-tedious\n",
        "pizza\u2026\u2026\u2026\u2026\u2026\u2026\u2026\u2026\u2026\u2026\u2026\u2026\u2026..i\n",
        "procrastination\u2026\n",
        "queen\u201d\u201cDon\u2019t\n",
        "sub-consciousness.\n",
        "tribulations\u2026\u201d\n",
        "unpredictable.\u201d\u201cBear\n",
        "v=D1uaw3WIOlclol\u2026\n",
        "who/what/when/where\n",
        "you\u201dhahaha..\u2018\u2018pray.\u201d\u201dgo\n"
       ]
      }
     ],
     "prompt_number": 185
    },
    {
     "cell_type": "code",
     "collapsed": false,
     "input": [
      "#remove these from the df?  though i accept 'not-as-akward-but-way-more-tedious as a valid resort to \n",
      "#not being able to find the word i was looking for at the time.\n",
      "#it was probably 'mundane'"
     ],
     "language": "python",
     "metadata": {},
     "outputs": [],
     "prompt_number": 186
    },
    {
     "cell_type": "code",
     "collapsed": false,
     "input": [
      "howmanyhave('mundane', alpha)"
     ],
     "language": "python",
     "metadata": {},
     "outputs": [
      {
       "output_type": "stream",
       "stream": "stdout",
       "text": [
        "0 unique words that contain ' mundane '\n"
       ]
      },
      {
       "metadata": {},
       "output_type": "pyout",
       "prompt_number": 194,
       "text": [
        "set()"
       ]
      }
     ],
     "prompt_number": 194
    },
    {
     "cell_type": "code",
     "collapsed": false,
     "input": [
      "#yep, it was probably 'mundane'"
     ],
     "language": "python",
     "metadata": {},
     "outputs": [],
     "prompt_number": 190
    },
    {
     "cell_type": "markdown",
     "metadata": {},
     "source": [
      "###Add frequency to the dataframe"
     ]
    },
    {
     "cell_type": "code",
     "collapsed": false,
     "input": [
      "df['freq'] = [alpha.count(w) for w in df['word']]"
     ],
     "language": "python",
     "metadata": {},
     "outputs": [],
     "prompt_number": 113
    },
    {
     "cell_type": "code",
     "collapsed": false,
     "input": [
      "uniq = df.drop_duplicates()"
     ],
     "language": "python",
     "metadata": {},
     "outputs": [],
     "prompt_number": 129
    },
    {
     "cell_type": "code",
     "collapsed": false,
     "input": [
      "#have yet to do pos, sentiment, so let's plot what we have for now."
     ],
     "language": "python",
     "metadata": {},
     "outputs": [],
     "prompt_number": 115
    },
    {
     "cell_type": "code",
     "collapsed": false,
     "input": [
      "fig, ax = plt.subplots(figsize=(27,9))\n",
      "\n",
      "ax.scatter(uniq['length'],\n",
      "           uniq['freq'],\n",
      "           s=125,\n",
      "           #s=(merged['Population'])**1.5/(merged['Population'].mean()),\n",
      "           c=colors, \n",
      "           alpha=1)\n",
      "mpl.rc('font', **font)\n",
      "ax.set_xlabel('Length of word', **font)\n",
      "ax.set_ylabel('Frequency of word in text', **font)\n",
      "ax.set_title('Short and Sweet: Frequency of words versus word length', **bigfont)\n",
      "ax.set_xlim([0, 50])\n",
      "ax.set_ylim([0,1400])"
     ],
     "language": "python",
     "metadata": {},
     "outputs": [
      {
       "metadata": {},
       "output_type": "pyout",
       "prompt_number": 228,
       "text": [
        "(0, 1400)"
       ]
      },
      {
       "metadata": {},
       "output_type": "display_data",
       "png": "[encoded data removed]",
       "text": [
        "<matplotlib.figure.Figure at 0xb3cc0b38>"
       ]
      }
     ],
     "prompt_number": 228
    },
    {
     "cell_type": "code",
     "collapsed": false,
     "input": [
      "print uniq['freq'].count()"
     ],
     "language": "python",
     "metadata": {},
     "outputs": [
      {
       "output_type": "stream",
       "stream": "stdout",
       "text": [
        "6419\n"
       ]
      }
     ],
     "prompt_number": 223
    },
    {
     "cell_type": "code",
     "collapsed": false,
     "input": [
      "print \"---------1\u03c3---------\"\n",
      "print uniq.std()  \n",
      "print\n",
      "print \"---------2\u03c3---------\"\n",
      "print uniq.std()*2\n",
      "print\n",
      "print \"---------3\u03c3---------\"\n",
      "print uniq.std()*3"
     ],
     "language": "python",
     "metadata": {},
     "outputs": [
      {
       "output_type": "stream",
       "stream": "stdout",
       "text": [
        "---------1\u03c3---------\n",
        "length     2.792600\n",
        "freq      35.385399\n",
        "dtype: float64\n",
        "\n",
        "---------2\u03c3---------\n",
        "length     5.585201\n",
        "freq      70.770797\n",
        "dtype: float64\n",
        "\n",
        "---------3\u03c3---------\n",
        "length      8.377801\n",
        "freq      106.156196\n",
        "dtype: float64"
       ]
      },
      {
       "output_type": "stream",
       "stream": "stdout",
       "text": [
        "\n"
       ]
      }
     ],
     "prompt_number": 225
    },
    {
     "cell_type": "markdown",
     "metadata": {},
     "source": [
      "###Isolating the most frequently used words"
     ]
    },
    {
     "cell_type": "code",
     "collapsed": false,
     "input": [
      "small = []\n",
      "\n",
      "for x in uniq['word']:\n",
      "    if len(x) < 5:\n",
      "        if alpha.count(x) > 35:\n",
      "            small.append(x)"
     ],
     "language": "python",
     "metadata": {},
     "outputs": [],
     "prompt_number": 269
    },
    {
     "cell_type": "code",
     "collapsed": false,
     "input": [
      "small"
     ],
     "language": "python",
     "metadata": {},
     "outputs": [
      {
       "metadata": {},
       "output_type": "pyout",
       "prompt_number": 270,
       "text": [
        "['And',\n",
        " 'But',\n",
        " 'I',\n",
        " 'The',\n",
        " 'You',\n",
        " 'a',\n",
        " 'all',\n",
        " 'am',\n",
        " 'an',\n",
        " 'and',\n",
        " 'are',\n",
        " 'as',\n",
        " 'at',\n",
        " 'back',\n",
        " 'be',\n",
        " 'been',\n",
        " 'best',\n",
        " 'but',\n",
        " 'by',\n",
        " 'can',\n",
        " 'do',\n",
        " 'down',\n",
        " 'even',\n",
        " 'ever',\n",
        " 'eyes',\n",
        " 'feel',\n",
        " 'find',\n",
        " 'for',\n",
        " 'from',\n",
        " 'get',\n",
        " 'go',\n",
        " 'good',\n",
        " 'got',\n",
        " 'had',\n",
        " 'has',\n",
        " 'have',\n",
        " 'her',\n",
        " 'here',\n",
        " 'how',\n",
        " 'i',\n",
        " 'if',\n",
        " 'in',\n",
        " 'into',\n",
        " 'is',\n",
        " 'it',\n",
        " 'it.',\n",
        " 'just',\n",
        " 'know',\n",
        " 'life',\n",
        " 'like',\n",
        " 'look',\n",
        " 'love',\n",
        " 'make',\n",
        " 'many',\n",
        " 'may',\n",
        " 'me',\n",
        " 'more',\n",
        " 'most',\n",
        " 'much',\n",
        " 'my',\n",
        " 'need',\n",
        " 'no',\n",
        " 'not',\n",
        " 'now',\n",
        " 'of',\n",
        " 'on',\n",
        " 'one',\n",
        " 'only',\n",
        " 'or',\n",
        " 'our',\n",
        " 'out',\n",
        " 'own',\n",
        " 'same',\n",
        " 'say',\n",
        " 'see',\n",
        " 'so',\n",
        " 'some',\n",
        " 'than',\n",
        " 'that',\n",
        " 'the',\n",
        " 'them',\n",
        " 'then',\n",
        " 'they',\n",
        " 'this',\n",
        " 'time',\n",
        " 'to',\n",
        " 'too',\n",
        " 'up',\n",
        " 'us',\n",
        " 'want',\n",
        " 'was',\n",
        " 'way',\n",
        " 'we',\n",
        " 'were',\n",
        " 'what',\n",
        " 'when',\n",
        " 'who',\n",
        " 'why',\n",
        " 'will',\n",
        " 'with',\n",
        " 'you',\n",
        " 'your']"
       ]
      }
     ],
     "prompt_number": 270
    },
    {
     "cell_type": "code",
     "collapsed": false,
     "input": [
      "small_df = pd.DataFrame(small)\n",
      "small_df.columns = ['word']"
     ],
     "language": "python",
     "metadata": {},
     "outputs": [],
     "prompt_number": 271
    },
    {
     "cell_type": "code",
     "collapsed": false,
     "input": [
      "small_df['length'] = [len(w) for w in small_df['word']]\n",
      "small_df['freq'] = [alpha.count(w) for w in small_df['word']]"
     ],
     "language": "python",
     "metadata": {},
     "outputs": [],
     "prompt_number": 272
    },
    {
     "cell_type": "code",
     "collapsed": false,
     "input": [
      "small_df = small_df.sort('freq', ascending=False)"
     ],
     "language": "python",
     "metadata": {},
     "outputs": [],
     "prompt_number": 281
    },
    {
     "cell_type": "code",
     "collapsed": false,
     "input": [
      "small_df.plot(kind='bar', x='word', figsize=(50,10))"
     ],
     "language": "python",
     "metadata": {},
     "outputs": [
      {
       "metadata": {},
       "output_type": "pyout",
       "prompt_number": 282,
       "text": [
        "<matplotlib.axes._subplots.AxesSubplot at 0xca4aef98>"
       ]
      },
      {
       "metadata": {},
       "output_type": "display_data",
       "png": "[encoded data removed]",
       "text": [
        "<matplotlib.figure.Figure at 0xca439748>"
       ]
      }
     ],
     "prompt_number": 282
    },
    {
     "cell_type": "markdown",
     "metadata": {},
     "source": [
      "---"
     ]
    },
    {
     "cell_type": "markdown",
     "metadata": {},
     "source": [
      "#Back to frequency analysis with NLTK..."
     ]
    },
    {
     "cell_type": "markdown",
     "metadata": {},
     "source": [
      "---"
     ]
    },
    {
     "cell_type": "markdown",
     "metadata": {},
     "source": [
      "###How many words contain [a certain word]?"
     ]
    },
    {
     "cell_type": "code",
     "collapsed": false,
     "input": [
      "def howmanyhave(x, text):\n",
      "    func = set([word for word in text if x in word])\n",
      "    print len(func), \"unique words that contain '\", x,\"'\"\n",
      "    return func\n",
      "\n",
      "def justhowmanyhave(x, text):\n",
      "    func = set([word for word in text if x in word])\n",
      "    print len(func), \"unique words that contain '\", x,\"'\""
     ],
     "language": "python",
     "metadata": {},
     "outputs": [],
     "prompt_number": 58
    },
    {
     "cell_type": "code",
     "collapsed": false,
     "input": [
      "howmanyhave('shit', alpha)"
     ],
     "language": "python",
     "metadata": {},
     "outputs": [
      {
       "output_type": "stream",
       "stream": "stdout",
       "text": [
        "10 unique words that contain ' shit '\n"
       ]
      },
      {
       "metadata": {},
       "output_type": "pyout",
       "prompt_number": 135,
       "text": [
        "{'bullshit',\n",
        " 'shit',\n",
        " 'shit.',\n",
        " 'shit..\\xe2\\x80\\x9d',\n",
        " 'shitfaced',\n",
        " 'shitit\\xe2\\x80\\x99s',\n",
        " 'shitnow',\n",
        " 'shits',\n",
        " 'shits.',\n",
        " 'shit\\xe2\\x80\\xa6'}"
       ]
      }
     ],
     "prompt_number": 135
    },
    {
     "cell_type": "code",
     "collapsed": false,
     "input": [
      "howmanyhave('fuck', alpha)"
     ],
     "language": "python",
     "metadata": {},
     "outputs": [
      {
       "output_type": "stream",
       "stream": "stdout",
       "text": [
        "10 unique words that contain ' fuck '\n"
       ]
      },
      {
       "metadata": {},
       "output_type": "pyout",
       "prompt_number": 76,
       "text": [
        "{'fuck',\n",
        " 'fuck.',\n",
        " 'fuckabitch.',\n",
        " 'fucked',\n",
        " 'fuckers',\n",
        " 'fuckin',\n",
        " 'fucking',\n",
        " 'fuckin\\xe2\\x80\\x99',\n",
        " 'here.fuck',\n",
        " 'mofuckaaaaah'}"
       ]
      }
     ],
     "prompt_number": 76
    },
    {
     "cell_type": "code",
     "collapsed": false,
     "input": [
      "justhowmanyhave('ly', alpha)"
     ],
     "language": "python",
     "metadata": {},
     "outputs": [
      {
       "output_type": "stream",
       "stream": "stdout",
       "text": [
        "195 unique words that contain ' ly '\n"
       ]
      }
     ],
     "prompt_number": 77
    },
    {
     "cell_type": "markdown",
     "metadata": {},
     "source": [
      "###How many words end in a suffix?"
     ]
    },
    {
     "cell_type": "code",
     "collapsed": false,
     "input": [
      "def howmanyendwith(x, text):\n",
      "    func = set([word for word in text if word.endswith(x)])\n",
      "    print len(func), \"unique words that ends with '\", x, \"'\"\n",
      "    return func\n",
      "\n",
      "def justhowmanyendwith(x, text):\n",
      "    func = set([word for word in text if word.endswith(x)])\n",
      "    print len(func), \"unique words that ends with '\", x, \"'\""
     ],
     "language": "python",
     "metadata": {},
     "outputs": [],
     "prompt_number": 62
    },
    {
     "cell_type": "code",
     "collapsed": false,
     "input": [
      "howmanyendwith('ness', alpha)"
     ],
     "language": "python",
     "metadata": {},
     "outputs": [
      {
       "output_type": "stream",
       "stream": "stdout",
       "text": [
        "18 unique words that ends with ' ness '\n"
       ]
      },
      {
       "metadata": {},
       "output_type": "pyout",
       "prompt_number": 78,
       "text": [
        "{'Business',\n",
        " 'Wackness',\n",
        " 'absent-mindedness',\n",
        " 'antsyness',\n",
        " 'awareness',\n",
        " 'awesomeness',\n",
        " 'business',\n",
        " 'carelessness',\n",
        " 'conciousness',\n",
        " 'crkyoawareness',\n",
        " 'darkness',\n",
        " 'drunkenness',\n",
        " 'greatness',\n",
        " 'happiness',\n",
        " 'lonliness',\n",
        " 'oneness',\n",
        " 'strangeness',\n",
        " 'weakness'}"
       ]
      }
     ],
     "prompt_number": 78
    },
    {
     "cell_type": "code",
     "collapsed": false,
     "input": [
      "howmanyhave('being', alpha)"
     ],
     "language": "python",
     "metadata": {},
     "outputs": [
      {
       "output_type": "stream",
       "stream": "stdout",
       "text": [
        "3 unique words that contain ' being '\n"
       ]
      },
      {
       "metadata": {},
       "output_type": "pyout",
       "prompt_number": 79,
       "text": [
        "{'being', 'beings', 'being\\xe2\\x80\\xa6'}"
       ]
      }
     ],
     "prompt_number": 79
    },
    {
     "cell_type": "code",
     "collapsed": false,
     "input": [],
     "language": "python",
     "metadata": {},
     "outputs": [],
     "prompt_number": 64
    }
   ],
   "metadata": {}
  }
 ]
}
