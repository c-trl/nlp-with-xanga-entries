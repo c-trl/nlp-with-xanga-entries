{
 "metadata": {
  "name": "",
  "signature": "sha256:06f4ce607685d2dbd3b8e56b08d683f467a4b6f4d44a6336f49ab87f6093e692"
 },
 "nbformat": 3,
 "nbformat_minor": 0,
 "worksheets": [
  {
   "cells": [
    {
     "cell_type": "markdown",
     "metadata": {},
     "source": [
      "#Setup"
     ]
    },
    {
     "cell_type": "code",
     "collapsed": false,
     "input": [
      "import requests"
     ],
     "language": "python",
     "metadata": {},
     "outputs": [],
     "prompt_number": 2
    },
    {
     "cell_type": "markdown",
     "metadata": {},
     "source": [
      "#Generating an automatic url feeder"
     ]
    },
    {
     "cell_type": "code",
     "collapsed": false,
     "input": [
      "#there are 25 pages\n",
      "\n",
      "url = 'http://crkyo.wordpress.com/page/'\n",
      "pages = range(1,25)\n",
      "\n",
      "urls = []\n",
      "\n",
      "for x in pages:\n",
      "    urls.append(url+str(x))\n"
     ],
     "language": "python",
     "metadata": {},
     "outputs": [],
     "prompt_number": 3
    },
    {
     "cell_type": "code",
     "collapsed": false,
     "input": [
      "urls"
     ],
     "language": "python",
     "metadata": {},
     "outputs": [
      {
       "metadata": {},
       "output_type": "pyout",
       "prompt_number": 4,
       "text": [
        "['http://crkyo.wordpress.com/page/1',\n",
        " 'http://crkyo.wordpress.com/page/2',\n",
        " 'http://crkyo.wordpress.com/page/3',\n",
        " 'http://crkyo.wordpress.com/page/4',\n",
        " 'http://crkyo.wordpress.com/page/5',\n",
        " 'http://crkyo.wordpress.com/page/6',\n",
        " 'http://crkyo.wordpress.com/page/7',\n",
        " 'http://crkyo.wordpress.com/page/8',\n",
        " 'http://crkyo.wordpress.com/page/9',\n",
        " 'http://crkyo.wordpress.com/page/10',\n",
        " 'http://crkyo.wordpress.com/page/11',\n",
        " 'http://crkyo.wordpress.com/page/12',\n",
        " 'http://crkyo.wordpress.com/page/13',\n",
        " 'http://crkyo.wordpress.com/page/14',\n",
        " 'http://crkyo.wordpress.com/page/15',\n",
        " 'http://crkyo.wordpress.com/page/16',\n",
        " 'http://crkyo.wordpress.com/page/17',\n",
        " 'http://crkyo.wordpress.com/page/18',\n",
        " 'http://crkyo.wordpress.com/page/19',\n",
        " 'http://crkyo.wordpress.com/page/20',\n",
        " 'http://crkyo.wordpress.com/page/21',\n",
        " 'http://crkyo.wordpress.com/page/22',\n",
        " 'http://crkyo.wordpress.com/page/23',\n",
        " 'http://crkyo.wordpress.com/page/24']"
       ]
      }
     ],
     "prompt_number": 4
    },
    {
     "cell_type": "markdown",
     "metadata": {},
     "source": [
      "#Using Requests to pull in text from WordPress"
     ]
    },
    {
     "cell_type": "code",
     "collapsed": false,
     "input": [
      "uhtml = []\n",
      "\n",
      "for x in urls:\n",
      "    r = requests.get(x)\n",
      "    uhtml.append(r.text)\n",
      "    print x"
     ],
     "language": "python",
     "metadata": {},
     "outputs": [
      {
       "output_type": "stream",
       "stream": "stdout",
       "text": [
        "http://crkyo.wordpress.com/page/1\n",
        "http://crkyo.wordpress.com/page/2"
       ]
      },
      {
       "output_type": "stream",
       "stream": "stdout",
       "text": [
        "\n",
        "http://crkyo.wordpress.com/page/3"
       ]
      },
      {
       "output_type": "stream",
       "stream": "stdout",
       "text": [
        "\n",
        "http://crkyo.wordpress.com/page/4"
       ]
      },
      {
       "output_type": "stream",
       "stream": "stdout",
       "text": [
        "\n",
        "http://crkyo.wordpress.com/page/5"
       ]
      },
      {
       "output_type": "stream",
       "stream": "stdout",
       "text": [
        "\n",
        "http://crkyo.wordpress.com/page/6"
       ]
      },
      {
       "output_type": "stream",
       "stream": "stdout",
       "text": [
        "\n",
        "http://crkyo.wordpress.com/page/7"
       ]
      },
      {
       "output_type": "stream",
       "stream": "stdout",
       "text": [
        "\n",
        "http://crkyo.wordpress.com/page/8"
       ]
      },
      {
       "output_type": "stream",
       "stream": "stdout",
       "text": [
        "\n",
        "http://crkyo.wordpress.com/page/9"
       ]
      },
      {
       "output_type": "stream",
       "stream": "stdout",
       "text": [
        "\n",
        "http://crkyo.wordpress.com/page/10"
       ]
      },
      {
       "output_type": "stream",
       "stream": "stdout",
       "text": [
        "\n",
        "http://crkyo.wordpress.com/page/11"
       ]
      },
      {
       "output_type": "stream",
       "stream": "stdout",
       "text": [
        "\n",
        "http://crkyo.wordpress.com/page/12"
       ]
      },
      {
       "output_type": "stream",
       "stream": "stdout",
       "text": [
        "\n",
        "http://crkyo.wordpress.com/page/13"
       ]
      },
      {
       "output_type": "stream",
       "stream": "stdout",
       "text": [
        "\n",
        "http://crkyo.wordpress.com/page/14"
       ]
      },
      {
       "output_type": "stream",
       "stream": "stdout",
       "text": [
        "\n",
        "http://crkyo.wordpress.com/page/15"
       ]
      },
      {
       "output_type": "stream",
       "stream": "stdout",
       "text": [
        "\n",
        "http://crkyo.wordpress.com/page/16"
       ]
      },
      {
       "output_type": "stream",
       "stream": "stdout",
       "text": [
        "\n",
        "http://crkyo.wordpress.com/page/17"
       ]
      },
      {
       "output_type": "stream",
       "stream": "stdout",
       "text": [
        "\n",
        "http://crkyo.wordpress.com/page/18"
       ]
      },
      {
       "output_type": "stream",
       "stream": "stdout",
       "text": [
        "\n",
        "http://crkyo.wordpress.com/page/19"
       ]
      },
      {
       "output_type": "stream",
       "stream": "stdout",
       "text": [
        "\n",
        "http://crkyo.wordpress.com/page/20"
       ]
      },
      {
       "output_type": "stream",
       "stream": "stdout",
       "text": [
        "\n",
        "http://crkyo.wordpress.com/page/21"
       ]
      },
      {
       "output_type": "stream",
       "stream": "stdout",
       "text": [
        "\n",
        "http://crkyo.wordpress.com/page/22"
       ]
      },
      {
       "output_type": "stream",
       "stream": "stdout",
       "text": [
        "\n",
        "http://crkyo.wordpress.com/page/23"
       ]
      },
      {
       "output_type": "stream",
       "stream": "stdout",
       "text": [
        "\n",
        "http://crkyo.wordpress.com/page/24"
       ]
      },
      {
       "output_type": "stream",
       "stream": "stdout",
       "text": [
        "\n"
       ]
      }
     ],
     "prompt_number": 5
    },
    {
     "cell_type": "code",
     "collapsed": false,
     "input": [
      "type(uhtml), type(uhtml[2])"
     ],
     "language": "python",
     "metadata": {},
     "outputs": [
      {
       "metadata": {},
       "output_type": "pyout",
       "prompt_number": 6,
       "text": [
        "(list, unicode)"
       ]
      }
     ],
     "prompt_number": 6
    },
    {
     "cell_type": "code",
     "collapsed": false,
     "input": [
      "#The body of the blog now live as unicode-strings in a list"
     ],
     "language": "python",
     "metadata": {},
     "outputs": [],
     "prompt_number": 7
    },
    {
     "cell_type": "markdown",
     "metadata": {},
     "source": [
      "#Converting Unicode to Ascii"
     ]
    },
    {
     "cell_type": "code",
     "collapsed": false,
     "input": [
      "html = []\n",
      "\n",
      "for x in uhtml:\n",
      "    encoded = x.encode(\"utf-8\")\n",
      "    html.append(encoded)"
     ],
     "language": "python",
     "metadata": {},
     "outputs": [],
     "prompt_number": 8
    },
    {
     "cell_type": "code",
     "collapsed": false,
     "input": [
      "type(html), type(html[3])"
     ],
     "language": "python",
     "metadata": {},
     "outputs": [
      {
       "metadata": {},
       "output_type": "pyout",
       "prompt_number": 9,
       "text": [
        "(list, str)"
       ]
      }
     ],
     "prompt_number": 9
    },
    {
     "cell_type": "code",
     "collapsed": false,
     "input": [
      "#The body of the blog has been converted from unicode"
     ],
     "language": "python",
     "metadata": {},
     "outputs": [],
     "prompt_number": 10
    },
    {
     "cell_type": "markdown",
     "metadata": {},
     "source": [
      "###How many characters in the entire source code?"
     ]
    },
    {
     "cell_type": "code",
     "collapsed": false,
     "input": [
      "print len(html), ':'\n",
      "\n",
      "for x in html:\n",
      "    print len(x),\"characters in this\", type(x)"
     ],
     "language": "python",
     "metadata": {},
     "outputs": [
      {
       "output_type": "stream",
       "stream": "stdout",
       "text": [
        "24 :\n",
        "50822 characters in this <type 'str'>\n",
        "45769 characters in this <type 'str'>\n",
        "41365 characters in this <type 'str'>\n",
        "41085 characters in this <type 'str'>\n",
        "37246 characters in this <type 'str'>\n",
        "38231 characters in this <type 'str'>\n",
        "36923 characters in this <type 'str'>\n",
        "43734 characters in this <type 'str'>\n",
        "46548 characters in this <type 'str'>\n",
        "48821 characters in this <type 'str'>\n",
        "50425 characters in this <type 'str'>\n",
        "35817 characters in this <type 'str'>\n",
        "39955 characters in this <type 'str'>\n",
        "43707 characters in this <type 'str'>\n",
        "34656 characters in this <type 'str'>\n",
        "34368 characters in this <type 'str'>\n",
        "42430 characters in this <type 'str'>\n",
        "41002 characters in this <type 'str'>\n",
        "42346 characters in this <type 'str'>\n",
        "37143 characters in this <type 'str'>\n",
        "42759 characters in this <type 'str'>\n",
        "46975 characters in this <type 'str'>\n",
        "58939 characters in this <type 'str'>\n",
        "63155 characters in this <type 'str'>\n"
       ]
      }
     ],
     "prompt_number": 11
    },
    {
     "cell_type": "code",
     "collapsed": false,
     "input": [
      "#Sidetracked - creating a simple addition calculator to count characters in a list of strings"
     ],
     "language": "python",
     "metadata": {},
     "outputs": [],
     "prompt_number": 12
    },
    {
     "cell_type": "code",
     "collapsed": false,
     "input": [
      "def addition(total):\n",
      "    charcounter = 0\n",
      "    for x in total:\n",
      "        charcounter += len(x)\n",
      "    print charcounter        "
     ],
     "language": "python",
     "metadata": {},
     "outputs": [],
     "prompt_number": 13
    },
    {
     "cell_type": "code",
     "collapsed": false,
     "input": [
      "addition(html)"
     ],
     "language": "python",
     "metadata": {},
     "outputs": [
      {
       "output_type": "stream",
       "stream": "stdout",
       "text": [
        "1044221\n"
       ]
      }
     ],
     "prompt_number": 14
    },
    {
     "cell_type": "markdown",
     "metadata": {},
     "source": [
      "---"
     ]
    },
    {
     "cell_type": "markdown",
     "metadata": {},
     "source": [
      "Still left to be filtered out:\n",
      "    \n",
      "    - CDATA bits\n",
      "    - stylesheet code\n",
      "    \n",
      "Can this be done by using RegEx on top of BeautifulSoup?  These bits are code that exists within tags (script and style tags), which bs looks for to filter out body text.  This should be filtered out before BeautifulSoup is used.  Alternatively, the pages can be split at the end of each style tag before being filtered with bs."
     ]
    },
    {
     "cell_type": "markdown",
     "metadata": {},
     "source": [
      "#Trimming off the head and footer from each page with split()"
     ]
    },
    {
     "cell_type": "code",
     "collapsed": false,
     "input": [
      "print html[0][:1000]"
     ],
     "language": "python",
     "metadata": {},
     "outputs": [
      {
       "output_type": "stream",
       "stream": "stdout",
       "text": [
        "<!DOCTYPE html>\n",
        "<html lang=\"en\">\n",
        "<head>\n",
        "<meta charset=\"UTF-8\">\n",
        "<meta name=\"viewport\" content=\"width=device-width, initial-scale=1\">\n",
        "<title>crkyo | Smile! You\u2019re at the best WordPress.com site ever</title>\n",
        "<link rel=\"profile\" href=\"http://gmpg.org/xfn/11\">\n",
        "<link rel=\"pingback\" href=\"https://crkyo.wordpress.com/xmlrpc.php\">\n",
        "\n",
        "<link rel=\"alternate\" type=\"application/rss+xml\" title=\"crkyo &raquo; Feed\" href=\"https://crkyo.wordpress.com/feed/\" />\n",
        "<link rel=\"alternate\" type=\"application/rss+xml\" title=\"crkyo &raquo; Comments Feed\" href=\"https://crkyo.wordpress.com/comments/feed/\" />\n",
        "<script type=\"text/javascript\">\n",
        "/* <![CDATA[ */\n",
        "function addLoadEvent(func){var oldonload=window.onload;if(typeof window.onload!='function'){window.onload=func;}else{window.onload=function(){oldonload();func();}}}\n",
        "/* ]]> */\n",
        "</script>\n",
        "<link rel='stylesheet' id='all-css-0' href='https://s0.wp.com/_static/??-eJx9kNFuwjAMRX9omQV0vE18S0lN6uLEUe2q6t9jkMaGyvp2HZ+j2Ia5hijFsBjkKVSeEhUFzcS41FEGjPZafUbVD3ivMV1RYUCrbbyGR7XC\n"
       ]
      }
     ],
     "prompt_number": 187
    },
    {
     "cell_type": "raw",
     "metadata": {},
     "source": [
      "Each page needs to be split with the following parameters:\n",
      "\n",
      "topSplit: /head\n",
      "bottomSplit: footer"
     ]
    },
    {
     "cell_type": "code",
     "collapsed": false,
     "input": [
      "content = []\n",
      "\n",
      "for page in html:\n",
      "    topSplit = '</head>'\n",
      "    bottomSplit = '<footer'\n",
      "    leanhtml = page.split(topSplit)[1].split(bottomSplit)[0]\n",
      "    content.append(leanhtml)\n",
      "    "
     ],
     "language": "python",
     "metadata": {},
     "outputs": [],
     "prompt_number": 16
    },
    {
     "cell_type": "code",
     "collapsed": false,
     "input": [
      "print len(content[0])\n",
      "print content[0][:1000]"
     ],
     "language": "python",
     "metadata": {},
     "outputs": [
      {
       "output_type": "stream",
       "stream": "stdout",
       "text": [
        "27536\n",
        "\n",
        "\n",
        "<body class=\"home blog mp6 customizer-styles-applied highlander-enabled highlander-light infinite-scroll neverending\">\n",
        "<div id=\"page\" class=\"hfeed site\">\n",
        "\t<a class=\"skip-link screen-reader-text\" href=\"#content\">Skip to content</a>\n",
        "\n",
        "\t<header id=\"masthead\" class=\"site-header\" role=\"banner\">\n",
        "\n",
        "\t\t<div class=\"site-branding\">\n",
        "\t\t\t\t\t\t\t\t\t\t\t\t\t<h1 class=\"site-title\"><a href=\"https://crkyo.wordpress.com/\" rel=\"home\">crkyo</a></h1>\n",
        "\t\t\t<h2 class=\"site-description\">Smile! You\u2019re at the best WordPress.com site ever</h2>\n",
        "\t\t</div>\n",
        "\n",
        "\t\t\n",
        "\t\t\t\t<div class=\"slide-menu\">\n",
        "\t\t\t\n",
        "\t\t\t\n",
        "\t\t</div>\n",
        "\t</header><!-- #masthead -->\n",
        "\n",
        "\t<div id=\"content\" class=\"site-content\">\n",
        "\n",
        "\t<div id=\"primary\" class=\"content-area\">\n",
        "\t\t<main id=\"main\" class=\"site-main\" role=\"main\">\n",
        "\n",
        "\t\t\n",
        "\t\t\t\t\t\t\n",
        "\t\t\t\t\n",
        "<article id=\"post-215\" class=\"post-215 post type-post status-publish format-standard hentry category-uncategorized\">\n",
        "\t<header class=\"entry-header\">\n",
        "\t\t\t\t\t<h1 class=\"entry-title\"><a href=\"https://crkyo.wordpress.com/2015/01/07/test/\" rel=\"bookmark\">Tes\n"
       ]
      }
     ],
     "prompt_number": 190
    },
    {
     "cell_type": "markdown",
     "metadata": {},
     "source": [
      "#Consolidating all pages into one variable"
     ]
    },
    {
     "cell_type": "code",
     "collapsed": false,
     "input": [
      "body = \"\"\n",
      "\n",
      "for page in content:\n",
      "    body += page\n",
      "    \n",
      "len(body)"
     ],
     "language": "python",
     "metadata": {},
     "outputs": [
      {
       "metadata": {},
       "output_type": "pyout",
       "prompt_number": 42,
       "text": [
        "484260"
       ]
      }
     ],
     "prompt_number": 42
    },
    {
     "cell_type": "markdown",
     "metadata": {},
     "source": [
      "#Parsing HTML with BeautifulSoup"
     ]
    },
    {
     "cell_type": "code",
     "collapsed": false,
     "input": [
      "type(body)"
     ],
     "language": "python",
     "metadata": {},
     "outputs": [
      {
       "metadata": {},
       "output_type": "pyout",
       "prompt_number": 19,
       "text": [
        "str"
       ]
      }
     ],
     "prompt_number": 19
    },
    {
     "cell_type": "code",
     "collapsed": false,
     "input": [
      "from bs4 import BeautifulSoup as bs"
     ],
     "language": "python",
     "metadata": {},
     "outputs": [],
     "prompt_number": 20
    },
    {
     "cell_type": "code",
     "collapsed": true,
     "input": [
      "soup = bs(body)\n",
      "print len(soup.get_text()), \"characters in this\", type(soup.get_text())"
     ],
     "language": "python",
     "metadata": {},
     "outputs": [
      {
       "output_type": "stream",
       "stream": "stdout",
       "text": [
        "210325 characters in this <type 'unicode'>\n"
       ]
      }
     ],
     "prompt_number": 43
    },
    {
     "cell_type": "code",
     "collapsed": false,
     "input": [
      "print bs(body).prettify()[:1000]"
     ],
     "language": "python",
     "metadata": {},
     "outputs": [
      {
       "output_type": "stream",
       "stream": "stdout",
       "text": [
        "<html>\n",
        " <body class=\"home blog mp6 customizer-styles-applied highlander-enabled highlander-light infinite-scroll neverending\">\n",
        "  <div class=\"hfeed site\" id=\"page\">\n",
        "   <a class=\"skip-link screen-reader-text\" href=\"#content\">\n",
        "    Skip to content\n",
        "   </a>\n",
        "   <header class=\"site-header\" id=\"masthead\" role=\"banner\">\n",
        "    <div class=\"site-branding\">\n",
        "     <h1 class=\"site-title\">\n",
        "      <a href=\"https://crkyo.wordpress.com/\" rel=\"home\">\n",
        "       crkyo\n",
        "      </a>\n",
        "     </h1>\n",
        "     <h2 class=\"site-description\">\n",
        "      Smile! You\u2019re at the best WordPress.com site ever\n",
        "     </h2>\n",
        "    </div>\n",
        "    <div class=\"slide-menu\">\n",
        "    </div>\n",
        "   </header>\n",
        "   <!-- #masthead -->\n",
        "   <div class=\"site-content\" id=\"content\">\n",
        "    <div class=\"content-area\" id=\"primary\">\n",
        "     <main class=\"site-main\" id=\"main\" role=\"main\">\n",
        "      <article class=\"post-215 post type-post status-publish format-standard hentry category-uncategorized\" id=\"post-215\">\n",
        "       <header class=\"entry-header\">\n",
        "        <h1 class=\"entry-title\">\n",
        "         <a hre\n"
       ]
      }
     ],
     "prompt_number": 191
    },
    {
     "cell_type": "code",
     "collapsed": false,
     "input": [
      "text = soup.get_text()\n",
      "print text[:1000]"
     ],
     "language": "python",
     "metadata": {},
     "outputs": [
      {
       "output_type": "stream",
       "stream": "stdout",
       "text": [
        "\n",
        "\n",
        "Skip to content\n",
        "\n",
        "\n",
        "crkyo\n",
        "Smile! You\u2019re at the best WordPress.com site ever\n",
        "\n",
        "\n",
        "\n",
        "\n",
        "\n",
        "\n",
        "\n",
        "\n",
        "\n",
        "Test\n",
        "\n",
        "January 7, 2015 crkyoLeave a comment \n",
        "\n",
        "\n",
        "test\n",
        "\n",
        "\n",
        "Test \n",
        "\n",
        "\n",
        "\n",
        "The Falls of\u00a0Truth\n",
        "\n",
        "January 16, 2013 crkyoawareness, evil, fear, good, philosophy, reasonLeave a comment \n",
        "\n",
        "\n",
        "Random thought that occurred to me as I was lying in bed:\n",
        "If I\u2019ve learned anything from watching anime, it\u2019s that you need to understand your own dark side, accept it and embrace it. \u00a0If you don\u2019t, you lose the capacity for reason, and also turn into a rampaging living form of energy in the shape of a giant fox. \u00a0\n",
        "All fanboyism aside, this very sensible concept led me to wonder \u2013 what is it that permits us to reason and accept the parts of humanity that we would prefer to turn our backs on or even refuse to acknowledge? \u00a0Must we first be capable of reason in order to accept the evils of humanity? \u00a0Do those who never really face their demons simply fail to reason with themselves? \u00a0Are they just cursed with a smaller capacity to reason, \n"
       ]
      }
     ],
     "prompt_number": 196
    },
    {
     "cell_type": "code",
     "collapsed": false,
     "input": [
      "#Other useful functions: soup.prettify(), soup.title(), soup.find_all('p')"
     ],
     "language": "python",
     "metadata": {},
     "outputs": [],
     "prompt_number": 26
    },
    {
     "cell_type": "markdown",
     "metadata": {},
     "source": [
      "#Natural Language Processing with NLTK"
     ]
    },
    {
     "cell_type": "code",
     "collapsed": false,
     "input": [
      "import nltk"
     ],
     "language": "python",
     "metadata": {},
     "outputs": [],
     "prompt_number": 27
    },
    {
     "cell_type": "markdown",
     "metadata": {},
     "source": [
      "###Tokenizing the body of text"
     ]
    },
    {
     "cell_type": "code",
     "collapsed": false,
     "input": [
      "tokens = nltk.word_tokenize(text)\n",
      "print len(tokens), type(tokens)"
     ],
     "language": "python",
     "metadata": {},
     "outputs": [
      {
       "output_type": "stream",
       "stream": "stdout",
       "text": [
        "40515 <type 'list'>\n"
       ]
      }
     ],
     "prompt_number": 46
    },
    {
     "cell_type": "code",
     "collapsed": false,
     "input": [
      "tokens[:10]"
     ],
     "language": "python",
     "metadata": {},
     "outputs": [
      {
       "metadata": {},
       "output_type": "pyout",
       "prompt_number": 29,
       "text": [
        "[u'Skip',\n",
        " u'to',\n",
        " u'content',\n",
        " u'crkyo',\n",
        " u'Smile',\n",
        " u'!',\n",
        " u'You\\u2019re',\n",
        " u'at',\n",
        " u'the',\n",
        " u'best']"
       ]
      }
     ],
     "prompt_number": 29
    },
    {
     "cell_type": "markdown",
     "metadata": {},
     "source": [
      "###Assigning part-of-speech tags to each word"
     ]
    },
    {
     "cell_type": "code",
     "collapsed": false,
     "input": [
      "from nltk.tag import pos_tag"
     ],
     "language": "python",
     "metadata": {},
     "outputs": [],
     "prompt_number": 30
    },
    {
     "cell_type": "code",
     "collapsed": false,
     "input": [
      "pos = pos_tag(tokens)"
     ],
     "language": "python",
     "metadata": {},
     "outputs": [],
     "prompt_number": 31
    },
    {
     "cell_type": "code",
     "collapsed": false,
     "input": [
      "type(pos)"
     ],
     "language": "python",
     "metadata": {},
     "outputs": [
      {
       "metadata": {},
       "output_type": "pyout",
       "prompt_number": 32,
       "text": [
        "list"
       ]
      }
     ],
     "prompt_number": 32
    },
    {
     "cell_type": "code",
     "collapsed": false,
     "input": [
      "len(pos)"
     ],
     "language": "python",
     "metadata": {},
     "outputs": [
      {
       "metadata": {},
       "output_type": "pyout",
       "prompt_number": 33,
       "text": [
        "40515"
       ]
      }
     ],
     "prompt_number": 33
    },
    {
     "cell_type": "code",
     "collapsed": false,
     "input": [
      "#-----\n",
      "#Will return to pos later\n",
      "#-----"
     ],
     "language": "python",
     "metadata": {},
     "outputs": [],
     "prompt_number": 151
    },
    {
     "cell_type": "code",
     "collapsed": true,
     "input": [
      "long_words = []\n",
      "\n",
      "for item in tokens:\n",
      "    if len(item) > 10:\n",
      "        long_words.append(item)\n",
      "        \n",
      "sorted(long_words)[15:50]"
     ],
     "language": "python",
     "metadata": {},
     "outputs": [
      {
       "metadata": {},
       "output_type": "pyout",
       "prompt_number": 34,
       "text": [
        "[u'140-limited',\n",
        " u'172.starting',\n",
        " u'54th*without',\n",
        " u'8,640,000,000,000',\n",
        " u'8,640,000,000,000.',\n",
        " u'Automatically',\n",
        " u'Bridgewater\\u2026',\n",
        " u'CHEESEBURGER',\n",
        " u'CHEESEBURGERS',\n",
        " u'Checkpoint.',\n",
        " u'Checkpoint.Honestly',\n",
        " u'Christopher',\n",
        " u'Communication',\n",
        " u'Confederate',\n",
        " u'DumbFounDead',\n",
        " u'Enlightenment',\n",
        " u'FeatureCuts',\n",
        " u'Inconsiderately',\n",
        " u'Incorporate',\n",
        " u'LyricFinderLite',\n",
        " u'Nevertheless',\n",
        " u'Nostradamus',\n",
        " u'Opportunity.',\n",
        " u'Organization',\n",
        " u'Photoshopping.',\n",
        " u'RESPECTABLE',\n",
        " u'Rochefoucauld',\n",
        " u'Shichyeah.To',\n",
        " u'Shyamalan\\u2019s',\n",
        " u'SoundCloud.',\n",
        " u'Theoretically.',\n",
        " u'Theory.After',\n",
        " u'Tumbokon05/28/47',\n",
        " u'Unbreakable',\n",
        " u'Understanding']"
       ]
      }
     ],
     "prompt_number": 34
    },
    {
     "cell_type": "code",
     "collapsed": false,
     "input": [
      "#How long is the average word in the blog?"
     ],
     "language": "python",
     "metadata": {},
     "outputs": [],
     "prompt_number": 35
    },
    {
     "cell_type": "code",
     "collapsed": false,
     "input": [
      "average_word = 0\n",
      "\n",
      "for word in tokens:\n",
      "    average_word += len(word)\n",
      "\n",
      "print \"The average word is\", average_word/len(tokens), \"letters long!  Word!\""
     ],
     "language": "python",
     "metadata": {},
     "outputs": [
      {
       "output_type": "stream",
       "stream": "stdout",
       "text": [
        "The average word is 4 letters long!  Word!\n"
       ]
      }
     ],
     "prompt_number": 36
    },
    {
     "cell_type": "code",
     "collapsed": false,
     "input": [
      "len(set(tokens))"
     ],
     "language": "python",
     "metadata": {},
     "outputs": [
      {
       "metadata": {},
       "output_type": "pyout",
       "prompt_number": 55,
       "text": [
        "6771"
       ]
      }
     ],
     "prompt_number": 55
    },
    {
     "cell_type": "code",
     "collapsed": false,
     "input": [
      "len(tokens)/len(set(tokens)) #returns average word frequency (out of 6771 words)"
     ],
     "language": "python",
     "metadata": {},
     "outputs": [
      {
       "metadata": {},
       "output_type": "pyout",
       "prompt_number": 50,
       "text": [
        "5"
       ]
      }
     ],
     "prompt_number": 50
    },
    {
     "cell_type": "code",
     "collapsed": false,
     "input": [
      "len(set(text))"
     ],
     "language": "python",
     "metadata": {},
     "outputs": [
      {
       "metadata": {},
       "output_type": "pyout",
       "prompt_number": 56,
       "text": [
        "102"
       ]
      }
     ],
     "prompt_number": 56
    },
    {
     "cell_type": "code",
     "collapsed": false,
     "input": [
      "len(text)/len(set(text)) #returns average character frequency (out of 102 characters)"
     ],
     "language": "python",
     "metadata": {},
     "outputs": [
      {
       "metadata": {},
       "output_type": "pyout",
       "prompt_number": 57,
       "text": [
        "2062"
       ]
      }
     ],
     "prompt_number": 57
    },
    {
     "cell_type": "code",
     "collapsed": false,
     "input": [
      "from nltk import FreqDist"
     ],
     "language": "python",
     "metadata": {},
     "outputs": [],
     "prompt_number": 59
    },
    {
     "cell_type": "code",
     "collapsed": false,
     "input": [
      "FreqDist(tokens)"
     ],
     "language": "python",
     "metadata": {},
     "outputs": [
      {
       "metadata": {},
       "output_type": "pyout",
       "prompt_number": 61,
       "text": [
        "<FreqDist with 6771 samples and 40515 outcomes>"
       ]
      }
     ],
     "prompt_number": 61
    },
    {
     "cell_type": "code",
     "collapsed": false,
     "input": [
      "len(FreqDist(tokens).keys())"
     ],
     "language": "python",
     "metadata": {},
     "outputs": [
      {
       "metadata": {},
       "output_type": "pyout",
       "prompt_number": 63,
       "text": [
        "6771"
       ]
      }
     ],
     "prompt_number": 63
    },
    {
     "cell_type": "code",
     "collapsed": false,
     "input": [
      "len(tokens)"
     ],
     "language": "python",
     "metadata": {},
     "outputs": [
      {
       "metadata": {},
       "output_type": "pyout",
       "prompt_number": 69,
       "text": [
        "40515"
       ]
      }
     ],
     "prompt_number": 69
    },
    {
     "cell_type": "code",
     "collapsed": false,
     "input": [
      "FreqDist(tokens).plot(50, cumulative=True)"
     ],
     "language": "python",
     "metadata": {},
     "outputs": [
      {
       "metadata": {},
       "output_type": "display_data",
       "png": "[encoded data removed]",
       "text": [
        "<matplotlib.figure.Figure at 0x1c070278>"
       ]
      }
     ],
     "prompt_number": 68
    },
    {
     "cell_type": "code",
     "collapsed": false,
     "input": [
      "curious = [\n",
      "'man',\n",
      "'woman',\n",
      "'boy',\n",
      "'girl',\n",
      "'want',\n",
      "'need',\n",
      "'think',\n",
      "'believe',\n",
      "'study',\n",
      "'find',\n",
      "'know',\n",
      "'shit',\n",
      "'fuck',\n",
      "'never',\n",
      "'always',\n",
      "'the',\n",
      "'and',\n",
      "'or',\n",
      "'when',\n",
      "'who',\n",
      "'what',\n",
      "'where',\n",
      "'why'\n",
      "]\n",
      "\n",
      "for word in curious:\n",
      "    print tokens.count(word), word"
     ],
     "language": "python",
     "metadata": {},
     "outputs": [
      {
       "output_type": "stream",
       "stream": "stdout",
       "text": [
        "3 man\n",
        "0 woman\n",
        "2 boy\n",
        "6 girl\n",
        "73"
       ]
      },
      {
       "output_type": "stream",
       "stream": "stdout",
       "text": [
        " want\n",
        "56 need\n",
        "90 think\n",
        "13 believe\n",
        "6"
       ]
      },
      {
       "output_type": "stream",
       "stream": "stdout",
       "text": [
        " study\n",
        "60 find\n",
        "79 know\n",
        "16 shit\n",
        "16"
       ]
      },
      {
       "output_type": "stream",
       "stream": "stdout",
       "text": [
        " fuck\n",
        "64 never\n",
        "46 always\n",
        "1312 the\n",
        "775"
       ]
      },
      {
       "output_type": "stream",
       "stream": "stdout",
       "text": [
        " and\n",
        "162 or\n",
        "147 when\n",
        "85 who\n",
        "266"
       ]
      },
      {
       "output_type": "stream",
       "stream": "stdout",
       "text": [
        " what\n",
        "49 where\n",
        "83 why\n"
       ]
      }
     ],
     "prompt_number": 91
    },
    {
     "cell_type": "markdown",
     "metadata": {},
     "source": [
      "###How many words contain [a certain word]?"
     ]
    },
    {
     "cell_type": "code",
     "collapsed": false,
     "input": [
      "def howmanyhave(x, text):\n",
      "    func = set([word for word in text if x in word])\n",
      "    print len(func), \"unique words that contain '\", x,\"'\"\n",
      "    return func\n",
      "\n",
      "def justhowmanyhave(x, text):\n",
      "    func = set([word for word in text if x in word])\n",
      "    print len(func), \"unique words that contain '\", x,\"'\""
     ],
     "language": "python",
     "metadata": {},
     "outputs": [],
     "prompt_number": 164
    },
    {
     "cell_type": "code",
     "collapsed": false,
     "input": [
      "howmanyhave('shit', tokens)"
     ],
     "language": "python",
     "metadata": {},
     "outputs": [
      {
       "output_type": "stream",
       "stream": "stdout",
       "text": [
        "11 unique words that contain ' shit '\n"
       ]
      },
      {
       "metadata": {},
       "output_type": "pyout",
       "prompt_number": 167,
       "text": [
        "{u'bullshit',\n",
        " u'shit',\n",
        " u'shit.',\n",
        " u'shit..\\u201d',\n",
        " u'shitfaced',\n",
        " u'shitit\\u2019s',\n",
        " u'shitnow',\n",
        " u'shits',\n",
        " u'shits.',\n",
        " u'shit\\u2026',\n",
        " u'\\u2026.shit'}"
       ]
      }
     ],
     "prompt_number": 167
    },
    {
     "cell_type": "code",
     "collapsed": false,
     "input": [
      "howmanyhave('fuck', tokens)"
     ],
     "language": "python",
     "metadata": {},
     "outputs": [
      {
       "output_type": "stream",
       "stream": "stdout",
       "text": [
        "11 unique words that contain ' fuck '\n"
       ]
      },
      {
       "metadata": {},
       "output_type": "pyout",
       "prompt_number": 166,
       "text": [
        "{u'fuck',\n",
        " u'fuck.',\n",
        " u'fuckabitch.',\n",
        " u'fucked',\n",
        " u'fuckers',\n",
        " u'fuckin',\n",
        " u'fucking',\n",
        " u'fuckin\\u2019',\n",
        " u'here.fuck',\n",
        " u'mofuckaaaaah',\n",
        " u'\\u201cfuck'}"
       ]
      }
     ],
     "prompt_number": 166
    },
    {
     "cell_type": "code",
     "collapsed": false,
     "input": [
      "justhowmanyhave('ly', tokens)"
     ],
     "language": "python",
     "metadata": {},
     "outputs": [
      {
       "output_type": "stream",
       "stream": "stdout",
       "text": [
        "195 unique words that contain ' ly '\n"
       ]
      }
     ],
     "prompt_number": 150
    },
    {
     "cell_type": "markdown",
     "metadata": {},
     "source": [
      "###How many words end in a suffix?"
     ]
    },
    {
     "cell_type": "code",
     "collapsed": false,
     "input": [
      "def howmanyendwith(x, text):\n",
      "    func = set([word for word in text if word.endswith(x)])\n",
      "    print len(func), \"unique words that ends with '\", x, \"'\"\n",
      "    return func\n",
      "\n",
      "def justhowmanyendwith(x, text):\n",
      "    func = set([word for word in text if word.endswith(x)])\n",
      "    print len(func), \"unique words that ends with '\", x, \"'\""
     ],
     "language": "python",
     "metadata": {},
     "outputs": [],
     "prompt_number": 173
    },
    {
     "cell_type": "code",
     "collapsed": false,
     "input": [
      "howmanyendwith('ness', tokens)"
     ],
     "language": "python",
     "metadata": {},
     "outputs": [
      {
       "output_type": "stream",
       "stream": "stdout",
       "text": [
        "18 unique words that ends with ' ness '\n"
       ]
      },
      {
       "metadata": {},
       "output_type": "pyout",
       "prompt_number": 174,
       "text": [
        "{u'Business',\n",
        " u'Wackness',\n",
        " u'absent-mindedness',\n",
        " u'antsyness',\n",
        " u'awareness',\n",
        " u'awesomeness',\n",
        " u'business',\n",
        " u'carelessness',\n",
        " u'conciousness',\n",
        " u'crkyoawareness',\n",
        " u'darkness',\n",
        " u'drunkenness',\n",
        " u'greatness',\n",
        " u'happiness',\n",
        " u'lonliness',\n",
        " u'oneness',\n",
        " u'strangeness',\n",
        " u'weakness'}"
       ]
      }
     ],
     "prompt_number": 174
    }
   ],
   "metadata": {}
  }
 ]
}
